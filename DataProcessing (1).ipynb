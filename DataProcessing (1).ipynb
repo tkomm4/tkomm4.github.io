{
  "cells": [
    {
      "cell_type": "markdown",
      "id": "08616772",
      "metadata": {
        "id": "08616772"
      },
      "source": [
        "Importing libraries"
      ]
    },
    {
      "cell_type": "code",
      "execution_count": 15,
      "id": "ab49ab37",
      "metadata": {
        "id": "ab49ab37"
      },
      "outputs": [],
      "source": [
        "import pandas as pd\n",
        "import numpy as np\n"
      ]
    },
    {
      "cell_type": "markdown",
      "id": "83c8cb76",
      "metadata": {
        "id": "83c8cb76"
      },
      "source": [
        "We want to simplify the dataset by dropping unnecessary rows, I'll start with condensing 'Start_Lat', 'Start_Lng', 'End_Lat', 'End_Lng' columns into a simple 'Location' column, but first I need to see if there is a significant enough distance between the two coordinates."
      ]
    },
    {
      "cell_type": "code",
      "execution_count": null,
      "id": "323cc06e",
      "metadata": {
        "colab": {
          "base_uri": "https://localhost:8080/",
          "height": 321
        },
        "id": "323cc06e",
        "outputId": "a3206fec-8e46-42db-fb82-f66a373b97d5"
      },
      "outputs": [],
      "source": [
        "# This takes about a minute to load\n",
        "df = pd.read_csv(\"Data/US_Accidents_March23.csv\")\n"
      ]
    },
    {
      "cell_type": "markdown",
      "id": "7cdfb7bc",
      "metadata": {
        "id": "7cdfb7bc"
      },
      "source": [
        "The below code converts start and endtime to the to_datetime format, and confirms that all the times were parsed successfully."
      ]
    },
    {
      "cell_type": "code",
      "execution_count": 17,
      "id": "c29fe5f9",
      "metadata": {
        "id": "c29fe5f9"
      },
      "outputs": [
        {
          "name": "stdout",
          "output_type": "stream",
          "text": [
            "count    7.728394e+06\n",
            "mean     7.407016e+00\n",
            "std      2.252049e+02\n",
            "min      2.027778e-02\n",
            "25%      5.250000e-01\n",
            "50%      1.247222e+00\n",
            "75%      2.085833e+00\n",
            "max      4.688232e+04\n",
            "Name: Duration_Hours, dtype: float64\n"
          ]
        }
      ],
      "source": [
        "df[\"Start_Time\"] = pd.to_datetime(df[\"Start_Time\"], format=\"mixed\", errors=\"coerce\")\n",
        "df[\"End_Time\"] = pd.to_datetime(df[\"End_Time\"], format=\"mixed\", errors=\"coerce\")\n",
        "\n",
        "# print(df[\"Start_Time\"].isna().sum())\n",
        "# print(df[\"End_Time\"].isna().sum())\n",
        "\n",
        "# Merges the columns into one for general duration\n",
        "df[\"Duration_Hours\"] = (df[\"End_Time\"] - df[\"Start_Time\"]).dt.total_seconds() / 3600\n",
        "print(df[\"Duration_Hours\"].describe())"
      ]
    },
    {
      "cell_type": "markdown",
      "id": "92153b36",
      "metadata": {
        "id": "92153b36"
      },
      "source": [
        "Converting the columns with numeric values from strings -> ints\n",
        "Converting columns with true/false -> boolean"
      ]
    },
    {
      "cell_type": "code",
      "execution_count": 18,
      "id": "29161261",
      "metadata": {
        "id": "29161261"
      },
      "outputs": [],
      "source": [
        "numeric_cols = [\n",
        "    \"Temperature(F)\", \"Wind_Chill(F)\", \"Humidity(%)\", \"Pressure(in)\",\n",
        "    \"Visibility(mi)\", \"Wind_Speed(mph)\", \"Precipitation(in)\", \"Distance(mi)\"\n",
        "]\n",
        "\n",
        "df[numeric_cols] = df[numeric_cols].apply(pd.to_numeric, errors=\"coerce\")\n",
        "df = df.dropna(subset=numeric_cols)\n",
        "df[numeric_cols] = df[numeric_cols].astype(int)\n",
        "\n",
        "binary_cols = [\n",
        "    \"Amenity\", \"Bump\", \"Crossing\", \"Give_Way\", \"Junction\", \"No_Exit\",\n",
        "    \"Railway\", \"Roundabout\", \"Station\", \"Stop\", \"Traffic_Calming\",\n",
        "    \"Traffic_Signal\", \"Turning_Loop\"\n",
        "]\n",
        "\n",
        "df[binary_cols] = df[binary_cols].astype(bool)"
      ]
    },
    {
      "cell_type": "markdown",
      "id": "NeECKAHip4FP",
      "metadata": {
        "id": "NeECKAHip4FP"
      },
      "source": [
        "Hypothesis\n",
        "\n",
        "Hypothesis: Accidents occur more frequently in temperatures that are below freezing ( Less than 32 degrees Fahrenheit ) than temperatures that are above freezing ( Greater than or equal to 32 degrees Fahrenheit )\n",
        "Null: There is no differnce between accidents occuring in freezing and warmer temperatures\n",
        "Alternate: There is more frequent accidents in freezing temperatures than warmer temperatures"
      ]
    },
    {
      "cell_type": "code",
      "execution_count": 19,
      "id": "3350e6c0",
      "metadata": {
        "id": "3350e6c0"
      },
      "outputs": [
        {
          "name": "stdout",
          "output_type": "stream",
          "text": [
            "Temp_Class\n",
            "Freezing (<32°F)     395944\n",
            "Warmer (≥32°F)      4850867\n",
            "Name: count, dtype: int64\n",
            "Chi-square statistic: 3782552.67\n",
            "P-value: 0.00000\n"
          ]
        },
        {
          "data": {
            "image/png": "[encoded data removed]",
            "text/plain": [
              "<Figure size 600x400 with 1 Axes>"
            ]
          },
          "metadata": {},
          "output_type": "display_data"
        }
      ],
      "source": [
        "\n",
        "df[\"Temp_Class\"] = df[\"Temperature(F)\"].apply(lambda x: \"Freezing (<32°F)\" if x < 32 else \"Warmer (≥32°F)\")\n",
        "df_temp = df.dropna(subset=[\"Temp_Class\"])\n",
        "temp_accident_track = df_temp[\"Temp_Class\"].value_counts().sort_index()\n",
        "print(temp_accident_track)\n",
        "from scipy.stats import chisquare\n",
        "\n",
        "observed = temp_accident_track.values\n",
        "expected = [observed.sum() / 2] * 2\n",
        "\n",
        "chi_stat, p_val = chisquare(f_obs=observed, f_exp=expected)\n",
        "print(f\"Chi-square statistic: {chi_stat:.2f}\")\n",
        "print(f\"P-value: {p_val:.5f}\")\n",
        "import seaborn as sns\n",
        "import matplotlib.pyplot as plt\n",
        "\n",
        "plt.figure(figsize=(6, 4))\n",
        "sns.barplot(x=temp_accident_track.index, y=temp_accident_track.values)\n",
        "plt.title(\"Accident Frequency: Freezing vs Warmer Temperatures\")\n",
        "plt.xlabel(\"Temperature Group\")\n",
        "plt.ylabel(\"Number of Accidents\")\n",
        "plt.tight_layout()\n",
        "plt.show()\n"
      ]
    },
    {
      "cell_type": "markdown",
      "id": "347eb48a",
      "metadata": {},
      "source": [
        "Conclusion:\n",
        "Well what this tell us that in warmer conditions there are more chances of accidents occuring.\n",
        "Due to the Chi-sqaure test beings so high shows a correlation and because the p-test is 0 tells \n",
        "us that it is not due to chace. So we reject our original hypothesis and we realize that accidents happen\n",
        "in warmer conditions then freezing."
      ]
    },
    {
      "cell_type": "markdown",
      "id": "4784c60d",
      "metadata": {
        "id": "4784c60d"
      },
      "source": [
        "Conclusion 2:"
      ]
    },
    {
      "cell_type": "markdown",
      "id": "1862b743",
      "metadata": {},
      "source": [
        "Hypothesis: Higher Severity Accidents Have Longer Durations\n",
        "\n",
        "Null: No difference in durations\n",
        "\n",
        "Alternative: Severit 4 accidents have longer durations than Severity 1 Accidents\n",
        "\n",
        "First we will prepare our data and get durations for severity 1 and 4"
      ]
    },
    {
      "cell_type": "code",
      "execution_count": 20,
      "id": "4a36a281",
      "metadata": {},
      "outputs": [],
      "source": [
        "df_valid = df[(df[\"Duration_Hours\"] > 0) & (df[\"Duration_Hours\"] < 24)]\n",
        "df_valid = df_valid.dropna(subset=[\"Severity\", \"Duration_Hours\"])\n",
        "\n",
        "sev_1 = df_valid[df_valid[\"Severity\"] == 1][\"Duration_Hours\"]\n",
        "sev_4 = df_valid[df_valid[\"Severity\"] == 4][\"Duration_Hours\"]\n"
      ]
    },
    {
      "cell_type": "markdown",
      "id": "2ec694ba",
      "metadata": {},
      "source": [
        "Next, we will use a Two-Sample t-test (Welch's)"
      ]
    },
    {
      "cell_type": "code",
      "execution_count": 21,
      "id": "5cfd8f64",
      "metadata": {},
      "outputs": [
        {
          "name": "stdout",
          "output_type": "stream",
          "text": [
            "T-statistic: 226.00\n",
            "P-value: 0.00000\n"
          ]
        }
      ],
      "source": [
        "from scipy.stats import ttest_ind\n",
        "\n",
        "t_stat, p_val = ttest_ind(sev_4, sev_1, equal_var=False)\n",
        "print(f\"T-statistic: {t_stat:.2f}\")\n",
        "print(f\"P-value: {p_val:.5f}\")\n"
      ]
    },
    {
      "cell_type": "markdown",
      "id": "8cf00b55",
      "metadata": {},
      "source": [
        "Now  we will print our results and show our visualization"
      ]
    },
    {
      "cell_type": "code",
      "execution_count": 22,
      "id": "fdae6f7c",
      "metadata": {},
      "outputs": [
        {
          "name": "stdout",
          "output_type": "stream",
          "text": [
            "Average duration (Severity 1): 0.7646325379628888\n",
            "Average duration (Severity 4): 2.3305469179220926\n"
          ]
        },
        {
          "data": {
            "image/png": "[encoded data removed]",
            "text/plain": [
              "<Figure size 600x400 with 1 Axes>"
            ]
          },
          "metadata": {},
          "output_type": "display_data"
        }
      ],
      "source": [
        "print(\"Average duration (Severity 1):\", sev_1.mean())\n",
        "print(\"Average duration (Severity 4):\", sev_4.mean())\n",
        "\n",
        "plt.figure(figsize=(6, 4))\n",
        "sns.boxplot(data=df_valid[df_valid[\"Severity\"].isin([1, 4])], x=\"Severity\", y=\"Duration_Hours\")\n",
        "plt.title(\"Accident Duration by Severity (1 vs 4)\")\n",
        "plt.xlabel(\"Severity Level\")\n",
        "plt.ylabel(\"Duration (Hours)\")\n",
        "plt.tight_layout()\n",
        "plt.show()\n"
      ]
    },
    {
      "cell_type": "markdown",
      "id": "d9372570",
      "metadata": {},
      "source": [
        "Since our P is 0, we can reject the null hypothesis and from our findings we can see that Severity 4 level accidents are significantly longer than Severity 1"
      ]
    },
    {
      "cell_type": "markdown",
      "id": "875cdb5c",
      "metadata": {
        "id": "875cdb5c"
      },
      "source": [
        "Conclusion 3:"
      ]
    }
  ],
  "metadata": {
    "colab": {
      "provenance": []
    },
    "kernelspec": {
      "display_name": "Python 3",
      "language": "python",
      "name": "python3"
    },
    "language_info": {
      "codemirror_mode": {
        "name": "ipython",
        "version": 3
      },
      "file_extension": ".py",
      "mimetype": "text/x-python",
      "name": "python",
      "nbconvert_exporter": "python",
      "pygments_lexer": "ipython3",
      "version": "3.13.5"
    }
  },
  "nbformat": 4,
  "nbformat_minor": 5
}
