{
  "cells": [
    {
      "cell_type": "markdown",
      "id": "08616772",
      "metadata": {
        "id": "08616772"
      },
      "source": [
        "Importing libraries"
      ]
    },
    {
      "cell_type": "code",
      "execution_count": 3,
      "id": "ab49ab37",
      "metadata": {
        "id": "ab49ab37"
      },
      "outputs": [],
      "source": [
        "import pandas as pd\n",
        "import numpy as np\n"
      ]
    },
    {
      "cell_type": "markdown",
      "id": "83c8cb76",
      "metadata": {
        "id": "83c8cb76"
      },
      "source": [
        "We want to simplify the dataset by dropping unnecessary rows, I'll start with condensing 'Start_Lat', 'Start_Lng', 'End_Lat', 'End_Lng' columns into a simple 'Location' column, but first I need to see if there is a significant enough distance between the two coordinates."
      ]
    },
    {
      "cell_type": "code",
      "execution_count": null,
      "id": "323cc06e",
      "metadata": {
        "colab": {
          "base_uri": "https://localhost:8080/",
          "height": 321
        },
        "id": "323cc06e",
        "outputId": "a3206fec-8e46-42db-fb82-f66a373b97d5"
      },
      "outputs": [],
      "source": [
        "# This takes about a minute to load\n",
        "df = pd.read_csv(\"Data/US_Accidents_March23.csv\")\n"
      ]
    },
    {
      "cell_type": "markdown",
      "id": "7cdfb7bc",
      "metadata": {
        "id": "7cdfb7bc"
      },
      "source": [
        "The below code converts start and endtime to the to_datetime format, and confirms that all the times were parsed successfully."
      ]
    },
    {
      "cell_type": "code",
      "execution_count": 5,
      "id": "c29fe5f9",
      "metadata": {
        "id": "c29fe5f9"
      },
      "outputs": [
        {
          "name": "stdout",
          "output_type": "stream",
          "text": [
            "count    7.728394e+06\n",
            "mean     7.407016e+00\n",
            "std      2.252049e+02\n",
            "min      2.027778e-02\n",
            "25%      5.250000e-01\n",
            "50%      1.247222e+00\n",
            "75%      2.085833e+00\n",
            "max      4.688232e+04\n",
            "Name: Duration_Hours, dtype: float64\n"
          ]
        }
      ],
      "source": [
        "df[\"Start_Time\"] = pd.to_datetime(df[\"Start_Time\"], format=\"mixed\", errors=\"coerce\")\n",
        "df[\"End_Time\"] = pd.to_datetime(df[\"End_Time\"], format=\"mixed\", errors=\"coerce\")\n",
        "\n",
        "# print(df[\"Start_Time\"].isna().sum())\n",
        "# print(df[\"End_Time\"].isna().sum())\n",
        "\n",
        "# Merges the columns into one for general duration\n",
        "df[\"Duration_Hours\"] = (df[\"End_Time\"] - df[\"Start_Time\"]).dt.total_seconds() / 3600\n",
        "print(df[\"Duration_Hours\"].describe())"
      ]
    },
    {
      "cell_type": "markdown",
      "id": "92153b36",
      "metadata": {
        "id": "92153b36"
      },
      "source": [
        "Converting the columns with numeric values from strings -> ints\n",
        "Converting columns with true/false -> boolean"
      ]
    },
    {
      "cell_type": "code",
      "execution_count": 6,
      "id": "29161261",
      "metadata": {
        "id": "29161261"
      },
      "outputs": [],
      "source": [
        "numeric_cols = [\n",
        "    \"Temperature(F)\", \"Wind_Chill(F)\", \"Humidity(%)\", \"Pressure(in)\",\n",
        "    \"Visibility(mi)\", \"Wind_Speed(mph)\", \"Precipitation(in)\", \"Distance(mi)\"\n",
        "]\n",
        "\n",
        "df[numeric_cols] = df[numeric_cols].apply(pd.to_numeric, errors=\"coerce\")\n",
        "df = df.dropna(subset=numeric_cols)\n",
        "df[numeric_cols] = df[numeric_cols].astype(int)\n",
        "\n",
        "binary_cols = [\n",
        "    \"Amenity\", \"Bump\", \"Crossing\", \"Give_Way\", \"Junction\", \"No_Exit\",\n",
        "    \"Railway\", \"Roundabout\", \"Station\", \"Stop\", \"Traffic_Calming\",\n",
        "    \"Traffic_Signal\", \"Turning_Loop\"\n",
        "]\n",
        "\n",
        "df[binary_cols] = df[binary_cols].astype(bool)"
      ]
    },
    {
      "cell_type": "markdown",
      "id": "NeECKAHip4FP",
      "metadata": {
        "id": "NeECKAHip4FP"
      },
      "source": [
        "Hypothesis: Accidents occur more frequenly in warmer weather which\n",
        "is greater than or equal to 32 degrees farhenite then colder weather which\n",
        "is less than 32 degrees farhenite"
      ]
    },
    {
      "cell_type": "code",
      "execution_count": 10,
      "id": "3350e6c0",
      "metadata": {
        "id": "3350e6c0"
      },
      "outputs": [
        {
          "name": "stdout",
          "output_type": "stream",
          "text": [
            "Temp_Class\n",
            "Cold (<32°F)     395944\n",
            "Warm (≥32°F)    4850867\n",
            "Name: count, dtype: int64\n",
            "Chi-square statistic: 3782552.67\n",
            "P-value: 0.00000\n"
          ]
        },
        {
          "data": {
            "image/png": "[encoded data removed]",
            "text/plain": [
              "<Figure size 600x400 with 1 Axes>"
            ]
          },
          "metadata": {},
          "output_type": "display_data"
        }
      ],
      "source": [
        "\n",
        "df[\"Temp_Class\"] = df[\"Temperature(F)\"].apply(lambda x: \"Cold (<32°F)\" if x < 32 else \"Warm (≥32°F)\")\n",
        "df_temp = df.dropna(subset=[\"Temp_Class\"])\n",
        "temp_accident_track = df_temp[\"Temp_Class\"].value_counts().sort_index()\n",
        "print(temp_accident_track)\n",
        "from scipy.stats import chisquare\n",
        "\n",
        "observed = temp_accident_track.values\n",
        "expected = [observed.sum() / 2] * 2\n",
        "\n",
        "chi_stat, p_val = chisquare(f_obs=observed, f_exp=expected)\n",
        "print(f\"Chi-square statistic: {chi_stat:.2f}\")\n",
        "print(f\"P-value: {p_val:.5f}\")\n",
        "import seaborn as sns\n",
        "import matplotlib.pyplot as plt\n",
        "\n",
        "plt.figure(figsize=(6, 4))\n",
        "sns.barplot(x=temp_accident_track.index, y=temp_accident_track.values)\n",
        "plt.title(\"Accident Frequency: Cold vs Warm Temperatures\")\n",
        "plt.xlabel(\"Temperature Group\")\n",
        "plt.ylabel(\"Number of Accidents\")\n",
        "plt.tight_layout()\n",
        "plt.show()\n"
      ]
    },
    {
      "cell_type": "markdown",
      "id": "347eb48a",
      "metadata": {},
      "source": [
        "Well what this tell us that in warmer conditions there are more chances of accidents occuring.\n",
        "Due to the Chi-sqaure test beings so high shows a correlation and because the p-test is 0 tells \n",
        "us that it is not due to chace. "
      ]
    },
    {
      "cell_type": "code",
      "execution_count": null,
      "id": "92460ebb",
      "metadata": {
        "id": "92460ebb"
      },
      "outputs": [],
      "source": []
    },
    {
      "cell_type": "markdown",
      "id": "53ec1421",
      "metadata": {
        "id": "53ec1421"
      },
      "source": [
        "Conclusion 1:"
      ]
    },
    {
      "cell_type": "markdown",
      "id": "4784c60d",
      "metadata": {
        "id": "4784c60d"
      },
      "source": [
        "Conclusion 2:"
      ]
    },
    {
      "cell_type": "markdown",
      "id": "875cdb5c",
      "metadata": {
        "id": "875cdb5c"
      },
      "source": [
        "Conclusion 3:"
      ]
    }
  ],
  "metadata": {
    "colab": {
      "provenance": []
    },
    "kernelspec": {
      "display_name": "base",
      "language": "python",
      "name": "python3"
    },
    "language_info": {
      "codemirror_mode": {
        "name": "ipython",
        "version": 3
      },
      "file_extension": ".py",
      "mimetype": "text/x-python",
      "name": "python",
      "nbconvert_exporter": "python",
      "pygments_lexer": "ipython3",
      "version": "3.13.2"
    }
  },
  "nbformat": 4,
  "nbformat_minor": 5
}
