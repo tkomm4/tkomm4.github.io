{
 "cells": [
  {
   "cell_type": "markdown",
   "id": "08616772",
   "metadata": {},
   "source": [
    "Importing libraries"
   ]
  },
  {
   "cell_type": "code",
   "execution_count": 6,
   "id": "ab49ab37",
   "metadata": {},
   "outputs": [],
   "source": [
    "import pandas as pd\n",
    "import numpy as np\n"
   ]
  },
  {
   "cell_type": "markdown",
   "id": "83c8cb76",
   "metadata": {},
   "source": [
    "We want to simplify the dataset by dropping unnecessary rows, I'll start with condensing 'Start_Lat', 'Start_Lng', 'End_Lat', 'End_Lng' columns into a simple 'Location' column, but first I need to see if there is a significant enough distance between the two coordinates."
   ]
  },
  {
   "cell_type": "code",
   "execution_count": null,
   "id": "323cc06e",
   "metadata": {},
   "outputs": [],
   "source": [
    "# This takes about a minute to load\n",
    "df = pd.read_csv(\"Data/US_Accidents_March23.csv\")\n"
   ]
  },
  {
   "cell_type": "markdown",
   "id": "7cdfb7bc",
   "metadata": {},
   "source": [
    "The below code converts start and endtime to the to_datetime format, and confirms that all the times were parsed successfully."
   ]
  },
  {
   "cell_type": "code",
   "execution_count": null,
   "id": "c29fe5f9",
   "metadata": {},
   "outputs": [
    {
     "name": "stdout",
     "output_type": "stream",
     "text": [
      "0\n",
      "0\n",
      "count    7.728394e+06\n",
      "mean     7.407016e+00\n",
      "std      2.252049e+02\n",
      "min      2.027778e-02\n",
      "25%      5.250000e-01\n",
      "50%      1.247222e+00\n",
      "75%      2.085833e+00\n",
      "max      4.688232e+04\n",
      "Name: Duration_Hours, dtype: float64\n"
     ]
    }
   ],
   "source": [
    "df[\"Start_Time\"] = pd.to_datetime(df[\"Start_Time\"], format=\"mixed\", errors=\"coerce\")\n",
    "df[\"End_Time\"] = pd.to_datetime(df[\"End_Time\"], format=\"mixed\", errors=\"coerce\")\n",
    "\n",
    "# print(df[\"Start_Time\"].isna().sum())\n",
    "# print(df[\"End_Time\"].isna().sum())\n",
    "\n",
    "# Merges the columns into one for general duration\n",
    "df[\"Duration_Hours\"] = (df[\"End_Time\"] - df[\"Start_Time\"]).dt.total_seconds() / 3600\n",
    "print(df[\"Duration_Hours\"].describe())"
   ]
  },
  {
   "cell_type": "markdown",
   "id": "92153b36",
   "metadata": {},
   "source": [
    "Converting the columns with numeric values from strings -> ints\n",
    "Converting columns with true/false -> boolean"
   ]
  },
  {
   "cell_type": "code",
   "execution_count": 29,
   "id": "29161261",
   "metadata": {},
   "outputs": [],
   "source": [
    "numeric_cols = [\n",
    "    \"Temperature(F)\", \"Wind_Chill(F)\", \"Humidity(%)\", \"Pressure(in)\",\n",
    "    \"Visibility(mi)\", \"Wind_Speed(mph)\", \"Precipitation(in)\", \"Distance(mi)\"\n",
    "]\n",
    "\n",
    "df[numeric_cols] = df[numeric_cols].apply(pd.to_numeric, errors=\"coerce\")\n",
    "df = df.dropna(subset=numeric_cols)\n",
    "df[numeric_cols] = df[numeric_cols].astype(int)\n",
    "\n",
    "binary_cols = [\n",
    "    \"Amenity\", \"Bump\", \"Crossing\", \"Give_Way\", \"Junction\", \"No_Exit\",\n",
    "    \"Railway\", \"Roundabout\", \"Station\", \"Stop\", \"Traffic_Calming\",\n",
    "    \"Traffic_Signal\", \"Turning_Loop\"\n",
    "]\n",
    "\n",
    "df[binary_cols] = df[binary_cols].astype(bool)"
   ]
  },
  {
   "cell_type": "markdown",
   "id": "53ec1421",
   "metadata": {},
   "source": [
    "Conclusion 1:"
   ]
  },
  {
   "cell_type": "markdown",
   "id": "4784c60d",
   "metadata": {},
   "source": [
    "Conclusion 2:"
   ]
  },
  {
   "cell_type": "markdown",
   "id": "875cdb5c",
   "metadata": {},
   "source": [
    "Conclusion 3:"
   ]
  }
 ],
 "metadata": {
  "kernelspec": {
   "display_name": "Python 3",
   "language": "python",
   "name": "python3"
  },
  "language_info": {
   "codemirror_mode": {
    "name": "ipython",
    "version": 3
   },
   "file_extension": ".py",
   "mimetype": "text/x-python",
   "name": "python",
   "nbconvert_exporter": "python",
   "pygments_lexer": "ipython3",
   "version": "3.12.10"
  }
 },
 "nbformat": 4,
 "nbformat_minor": 5
}
